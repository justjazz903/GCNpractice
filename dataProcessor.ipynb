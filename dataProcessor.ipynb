{
 "cells": [
  {
   "cell_type": "code",
   "execution_count": 1,
   "metadata": {},
   "outputs": [
    {
     "name": "stderr",
     "output_type": "stream",
     "text": [
      "/usr/local/lib/python3.6/dist-packages/ipykernel_launcher.py:17: FutureWarning: read_table is deprecated, use read_csv instead.\n"
     ]
    }
   ],
   "source": [
    "import numpy as np\n",
    "import pandas as pd\n",
    "\n",
    "raw_data = open('TWITTER-Real-Graph-Partial.txt','r')\n",
    "preprocessed_data = open('preprocessed_data.txt','w')\n",
    "for i in raw_data:\n",
    "    if i.startswith('e'):\n",
    "        if i[3] != ' ':\n",
    "            preprocessed_data.write(i[0:4] + ',' + i[5:])\n",
    "        else:\n",
    "            preprocessed_data.write(i[0:3] + ',' + i[4:])\n",
    "    else:\n",
    "        preprocessed_data.write(i)\n",
    "raw_data.close()\n",
    "preprocessed_data.close()\n",
    "\n",
    "file = pd.read_table('preprocessed_data.txt', sep=' ', header = None)\n",
    "\n",
    "nodes_name = pd.Series(pd.unique(file[file[0] == 'n'][2]))\n",
    "\n",
    "def BuildGraphMatrix(graph_raw):\n",
    "    nodes_num = graph_raw[graph_raw[0] == 'n'].shape[0]\n",
    "    edges = graph_raw[graph_raw[0] == 'e'][1]\n",
    "    weights = graph_raw[graph_raw[0] == 'e'][2]\n",
    "    features = graph_raw[graph_raw[0] == 'n'][2]\n",
    "    label = int(graph_raw[graph_raw[0] == 'x'][1])\n",
    "    \n",
    "    if label == -1:\n",
    "        label = np.array([0,1])\n",
    "    else:\n",
    "        label = np.array([1,0])\n",
    "\n",
    "    g_matrix = np.zeros((14,14))  #need to find maximum dimension\n",
    "\n",
    "    for index in edges.index:\n",
    "        if edges[index][1] != ',':\n",
    "            row = int(edges[index][0:2])\n",
    "            column = int(edges[index][3:])\n",
    "        else:\n",
    "            row = int(edges[index][0:1])\n",
    "            column = int(edges[index][2:])\n",
    "        g_matrix[row-1,column-1] = weights[index]\n",
    "        g_matrix[column-1,row-1] = weights[index]\n",
    "\n",
    "    for i,word in enumerate(features):\n",
    "        g_matrix[i,i] = (1 + nodes_name[nodes_name == word].index[0])/10000\n",
    "\n",
    "    return g_matrix,label"
   ]
  },
  {
   "cell_type": "code",
   "execution_count": 2,
   "metadata": {},
   "outputs": [
    {
     "name": "stdout",
     "output_type": "stream",
     "text": [
      "Comuptation complete: 10000 / 144033\n",
      "Comuptation complete: 20000 / 144033\n",
      "Comuptation complete: 30000 / 144033\n",
      "Comuptation complete: 40000 / 144033\n",
      "Comuptation complete: 50000 / 144033\n",
      "Comuptation complete: 60000 / 144033\n",
      "Comuptation complete: 70000 / 144033\n",
      "Comuptation complete: 80000 / 144033\n",
      "Comuptation complete: 90000 / 144033\n",
      "Comuptation complete: 100000 / 144033\n",
      "Comuptation complete: 110000 / 144033\n",
      "Comuptation complete: 120000 / 144033\n",
      "Comuptation complete: 130000 / 144033\n",
      "Comuptation complete: 140000 / 144033\n",
      "Completed!\n"
     ]
    }
   ],
   "source": [
    "graph_seg_head = 0\n",
    "count = 0\n",
    "g_matrix_whole = np.ndarray(shape=(len(file[file[0] == 'x'].index),14,14))\n",
    "label_whole = np.zeros([len(file[file[0] == 'x'].index),2])\n",
    "\n",
    "for n,graph_seg_end in enumerate(file[file[0] == 'x'].index):\n",
    "    g_matrix,label = BuildGraphMatrix(file.loc[graph_seg_head:graph_seg_end,:])\n",
    "    g_matrix_whole[n] = g_matrix\n",
    "    label_whole[n] = label\n",
    "    graph_seg_head = graph_seg_end + 1\n",
    "    count = count + 1\n",
    "\n",
    "    if (count%10000 == 0):\n",
    "        print('Comuptation complete:',count,'/',len(file[file[0] == 'x'].index))\n",
    "\n",
    "print('Completed!')\n",
    "\n",
    "np.save('g_matrix.npy',g_matrix_whole)\n",
    "np.save('label.npy',label_whole)"
   ]
  },
  {
   "cell_type": "code",
   "execution_count": null,
   "metadata": {},
   "outputs": [],
   "source": []
  },
  {
   "cell_type": "code",
   "execution_count": null,
   "metadata": {},
   "outputs": [],
   "source": []
  },
  {
   "cell_type": "code",
   "execution_count": null,
   "metadata": {},
   "outputs": [],
   "source": []
  },
  {
   "cell_type": "code",
   "execution_count": null,
   "metadata": {},
   "outputs": [],
   "source": []
  }
 ],
 "metadata": {
  "kernelspec": {
   "display_name": "Python 3",
   "language": "python",
   "name": "python3"
  },
  "language_info": {
   "codemirror_mode": {
    "name": "ipython",
    "version": 3
   },
   "file_extension": ".py",
   "mimetype": "text/x-python",
   "name": "python",
   "nbconvert_exporter": "python",
   "pygments_lexer": "ipython3",
   "version": "3.6.8"
  }
 },
 "nbformat": 4,
 "nbformat_minor": 2
}
