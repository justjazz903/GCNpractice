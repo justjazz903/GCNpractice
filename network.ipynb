{
 "cells": [
  {
   "cell_type": "code",
   "execution_count": 6,
   "metadata": {},
   "outputs": [
    {
     "name": "stdout",
     "output_type": "stream",
     "text": [
      "Epoch 1/5\n",
      "115226/115226 [==============================] - 13s 114us/sample - loss: 0.6850 - acc: 0.5259\n",
      "Epoch 2/5\n",
      "115226/115226 [==============================] - 13s 117us/sample - loss: 0.6838 - acc: 0.5274\n",
      "Epoch 3/5\n",
      "115226/115226 [==============================] - 13s 115us/sample - loss: 0.6836 - acc: 0.5259\n",
      "Epoch 4/5\n",
      "115226/115226 [==============================] - 14s 125us/sample - loss: 0.6835 - acc: 0.5264\n",
      "Epoch 5/5\n",
      "115226/115226 [==============================] - 12s 105us/sample - loss: 0.6833 - acc: 0.5274\n",
      "28806/28806 [==============================] - 1s 41us/sample - loss: 0.6825 - acc: 0.5328\n"
     ]
    },
    {
     "data": {
      "text/plain": [
       "[0.6825013418897179, 0.5328404]"
      ]
     },
     "execution_count": 6,
     "metadata": {},
     "output_type": "execute_result"
    }
   ],
   "source": [
    "import tensorflow as tf\n",
    "import numpy as np\n",
    "\n",
    "x = np.load('g_matrix.npy',allow_pickle=True)\n",
    "y = np.load('label.npy',allow_pickle = True)\n",
    "\n",
    "x_train = x[:int(0.8*len(x))]\n",
    "y_train = y[:int(0.8*len(y))]\n",
    "x_test = x[int(0.8*len(y)+1):]\n",
    "y_test = y[int(0.8*len(y)+1):]\n",
    "\n",
    "model = tf.keras.models.Sequential([\n",
    "  tf.keras.layers.Flatten(input_shape=(14, 14)),\n",
    "  tf.keras.layers.Dense(1024, activation=tf.nn.relu),\n",
    "  tf.keras.layers.Dropout(0.1),\n",
    "  tf.keras.layers.Dense(2, activation=tf.nn.softmax)\n",
    "])\n",
    "model.compile(optimizer='adam',\n",
    "              loss='binary_crossentropy',\n",
    "              metrics=['accuracy'])\n",
    "\n",
    "model.fit(x_train, y_train, epochs=5)\n",
    "model.evaluate(x_test, y_test)"
   ]
  },
  {
   "cell_type": "code",
   "execution_count": 21,
   "metadata": {},
   "outputs": [],
   "source": [
    "a=np.zeros([115226,2])"
   ]
  },
  {
   "cell_type": "code",
   "execution_count": 22,
   "metadata": {},
   "outputs": [],
   "source": [
    "b = np.array([0,1])"
   ]
  },
  {
   "cell_type": "code",
   "execution_count": 23,
   "metadata": {},
   "outputs": [],
   "source": [
    "a[0] = b"
   ]
  },
  {
   "cell_type": "code",
   "execution_count": 24,
   "metadata": {},
   "outputs": [
    {
     "data": {
      "text/plain": [
       "array([[0., 1.],\n",
       "       [0., 0.],\n",
       "       [0., 0.],\n",
       "       ...,\n",
       "       [0., 0.],\n",
       "       [0., 0.],\n",
       "       [0., 0.]])"
      ]
     },
     "execution_count": 24,
     "metadata": {},
     "output_type": "execute_result"
    }
   ],
   "source": [
    "a"
   ]
  },
  {
   "cell_type": "code",
   "execution_count": null,
   "metadata": {},
   "outputs": [],
   "source": []
  }
 ],
 "metadata": {
  "kernelspec": {
   "display_name": "Python 3",
   "language": "python",
   "name": "python3"
  },
  "language_info": {
   "codemirror_mode": {
    "name": "ipython",
    "version": 3
   },
   "file_extension": ".py",
   "mimetype": "text/x-python",
   "name": "python",
   "nbconvert_exporter": "python",
   "pygments_lexer": "ipython3",
   "version": "3.6.8"
  }
 },
 "nbformat": 4,
 "nbformat_minor": 2
}
