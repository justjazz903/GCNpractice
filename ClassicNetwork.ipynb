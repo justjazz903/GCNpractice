{
 "cells": [
  {
   "cell_type": "code",
   "execution_count": 17,
   "metadata": {},
   "outputs": [
    {
     "name": "stdout",
     "output_type": "stream",
     "text": [
      "Epoch 1/5\n",
      "100823/100823 [==============================] - 7s 65us/sample - loss: 0.6914 - acc: 0.5253\n",
      "Epoch 2/5\n",
      "100823/100823 [==============================] - 6s 63us/sample - loss: 0.6906 - acc: 0.5262\n",
      "Epoch 3/5\n",
      "100823/100823 [==============================] - 6s 60us/sample - loss: 0.6901 - acc: 0.5269\n",
      "Epoch 4/5\n",
      "100823/100823 [==============================] - 6s 61us/sample - loss: 0.6897 - acc: 0.5265\n",
      "Epoch 5/5\n",
      "100823/100823 [==============================] - 6s 61us/sample - loss: 0.6893 - acc: 0.5278\n",
      "43210/43210 [==============================] - 1s 26us/sample - loss: 0.6892 - acc: 0.5281\n"
     ]
    },
    {
     "data": {
      "text/plain": [
       "[0.689232460036098, 0.5281416]"
      ]
     },
     "execution_count": 17,
     "metadata": {},
     "output_type": "execute_result"
    }
   ],
   "source": [
    "import tensorflow as tf\n",
    "import numpy as np\n",
    "\n",
    "fea_matrix = np.load('fea_matrix.npy',allow_pickle=True)\n",
    "w_adj_matrix = np.load('w_adj_matrix.npy',allow_pickle=True)\n",
    "label = np.load('label.npy',allow_pickle = True)\n",
    "adj_matrix = np.load('adj_matrix.npy',allow_pickle=True)\n",
    "d_matrix = np.load('d_matrix.npy',allow_pickle=True)\n",
    "\n",
    "num = len(fea_matrix)\n",
    "\n",
    "fea_train = fea_matrix[:int(0.7*num)]\n",
    "d_train = d_matrix[:int(0.7*num)]\n",
    "label_train = label[:int(0.7*num)]\n",
    "w_adj_train = w_adj_matrix[:int(0.7*num)]\n",
    "adj_train = adj_matrix[:int(0.7*num)]\n",
    "\n",
    "fea_test = fea_matrix[int(0.7*num):]\n",
    "d_test = d_matrix[int(0.7*num):]\n",
    "label_test = label[int(0.7*num):]\n",
    "w_adj_test = w_adj_matrix[int(0.7*num):]\n",
    "adj_test = adj_matrix[int(0.7*num):]\n",
    "\n",
    "\n",
    "\n",
    "model = tf.keras.models.Sequential([\n",
    "  tf.keras.layers.Flatten(input_shape=(14, 14)),\n",
    "  tf.keras.layers.Dense(512, activation=tf.nn.relu),\n",
    "  tf.keras.layers.Dropout(0.2),\n",
    "  tf.keras.layers.Dense(2, activation=tf.nn.softmax)\n",
    "])\n",
    "model.compile(optimizer='adam',\n",
    "              loss='binary_crossentropy',\n",
    "              metrics=['accuracy'])\n",
    "\n",
    "model.fit(d_train, label_train, epochs=5)\n",
    "model.evaluate(d_test, label_test)"
   ]
  },
  {
   "cell_type": "code",
   "execution_count": null,
   "metadata": {},
   "outputs": [],
   "source": []
  },
  {
   "cell_type": "code",
   "execution_count": null,
   "metadata": {},
   "outputs": [],
   "source": []
  }
 ],
 "metadata": {
  "kernelspec": {
   "display_name": "Python 3",
   "language": "python",
   "name": "python3"
  },
  "language_info": {
   "codemirror_mode": {
    "name": "ipython",
    "version": 3
   },
   "file_extension": ".py",
   "mimetype": "text/x-python",
   "name": "python",
   "nbconvert_exporter": "python",
   "pygments_lexer": "ipython3",
   "version": "3.6.8"
  }
 },
 "nbformat": 4,
 "nbformat_minor": 2
}
